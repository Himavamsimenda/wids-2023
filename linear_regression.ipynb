{
 "cells": [
  {
   "cell_type": "code",
   "execution_count": null,
   "id": "1d5301b7",
   "metadata": {
    "lines_to_next_cell": 2
   },
   "outputs": [],
   "source": [
    "import pandas as pd\n",
    "import matplotlib.pyplot as plt"
   ]
  },
  {
   "cell_type": "code",
   "execution_count": null,
   "id": "0b9cf377",
   "metadata": {
    "lines_to_next_cell": 1
   },
   "outputs": [],
   "source": [
    "data = pd.read_csv('train.csv')\n",
    "test_data = pd.read_csv('test.csv')"
   ]
  },
  {
   "cell_type": "code",
   "execution_count": null,
   "id": "104a7029",
   "metadata": {},
   "outputs": [],
   "source": [
    "def grad_descent(m_present, c_present, points, learningrate):\n",
    "    m_grad = 0\n",
    "    c_grad = 0\n",
    "    n = len(points)\n",
    "    \n",
    "    for i in range(n):\n",
    "        x = points.iloc[i].feature\n",
    "        y = points.iloc[i].target\n",
    "        m_grad += (-2/n) * x * (y - (m_present*x + c_present))\n",
    "        c_grad += (-2/n) * (y - (m_present*x + c_present))\n",
    "        \n",
    "    m = m_present - learningrate * m_grad\n",
    "    c = c_present - learningrate * c_grad\n",
    "    \n",
    "    return m, c"
   ]
  },
  {
   "cell_type": "code",
   "execution_count": null,
   "id": "e879ba20",
   "metadata": {},
   "outputs": [],
   "source": [
    "m = 0\n",
    "c = 0\n",
    "learningrate = 0.01\n",
    "iterations = 600"
   ]
  },
  {
   "cell_type": "code",
   "execution_count": null,
   "id": "ac88642c",
   "metadata": {},
   "outputs": [],
   "source": [
    "for i in range(iterations):\n",
    "   \n",
    "    m, c = grad_descent(m, c, data, learningrate)"
   ]
  },
  {
   "cell_type": "code",
   "execution_count": null,
   "id": "6d6894d9",
   "metadata": {},
   "outputs": [],
   "source": []
  },
  {
   "cell_type": "code",
   "execution_count": null,
   "id": "1186fb6f",
   "metadata": {
    "lines_to_next_cell": 2
   },
   "outputs": [],
   "source": [
    "test_data['prediction'] = m * test_data['feature'] + c"
   ]
  },
  {
   "cell_type": "code",
   "execution_count": null,
   "id": "86b5f25c",
   "metadata": {
    "lines_to_next_cell": 2
   },
   "outputs": [],
   "source": [
    "output_file_path = 'prediction.csv'\n",
    "test_data[['row_id', 'prediction']].to_csv(output_file_path, index=False)"
   ]
  }
 ],
 "metadata": {
  "jupytext": {
   "cell_metadata_filter": "-all",
   "main_language": "python",
   "notebook_metadata_filter": "-all"
  },
  "kernelspec": {
   "display_name": "Python 3",
   "language": "python",
   "name": "python3"
  },
  "language_info": {
   "name": "python",
   "version": "3.12.0"
  }
 },
 "nbformat": 4,
 "nbformat_minor": 5
}
